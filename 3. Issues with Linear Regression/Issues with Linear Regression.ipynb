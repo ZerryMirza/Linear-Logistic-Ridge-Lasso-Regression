{
 "cells": [
  {
   "cell_type": "code",
   "execution_count": 2,
   "id": "8edce035",
   "metadata": {},
   "outputs": [],
   "source": [
    "import pandas as pd\n",
    "import numpy as np\n",
    "import matplotlib.pyplot as plt\n",
    "import seaborn as sns\n",
    "%matplotlib inline"
   ]
  },
  {
   "cell_type": "code",
   "execution_count": 3,
   "id": "e3fe560d",
   "metadata": {},
   "outputs": [],
   "source": [
    "x = np.random.rand(30)"
   ]
  },
  {
   "cell_type": "code",
   "execution_count": 4,
   "id": "6ffe0229",
   "metadata": {},
   "outputs": [
    {
     "data": {
      "text/plain": [
       "array([0.45943634, 0.32979396, 0.79992838, 0.0709696 , 0.27324152,\n",
       "       0.25110158, 0.2504606 , 0.60383066, 0.02562309, 0.87187707,\n",
       "       0.37585777, 0.98472516, 0.11645307, 0.33292602, 0.41499891,\n",
       "       0.90967649, 0.58242181, 0.86441533, 0.34759116, 0.94246583,\n",
       "       0.3236347 , 0.83494334, 0.40657761, 0.74628707, 0.12976446,\n",
       "       0.49914248, 0.30400822, 0.58809919, 0.18492008, 0.13644755])"
      ]
     },
     "execution_count": 4,
     "metadata": {},
     "output_type": "execute_result"
    }
   ],
   "source": [
    "x"
   ]
  },
  {
   "cell_type": "code",
   "execution_count": 5,
   "id": "784b1929",
   "metadata": {},
   "outputs": [
    {
     "data": {
      "text/plain": [
       "[0.17453292519943295,\n",
       " 0.22689280275926285,\n",
       " 0.2792526803190927,\n",
       " 0.3316125578789226,\n",
       " 0.3839724354387525,\n",
       " 0.4363323129985824,\n",
       " 0.4886921905584123,\n",
       " 0.5410520681182421,\n",
       " 0.5934119456780721,\n",
       " 0.6457718232379019,\n",
       " 0.6981317007977318,\n",
       " 0.7504915783575616,\n",
       " 0.8028514559173915,\n",
       " 0.8552113334772214,\n",
       " 0.9075712110370514,\n",
       " 0.9599310885968813,\n",
       " 1.0122909661567112,\n",
       " 1.064650843716541,\n",
       " 1.117010721276371,\n",
       " 1.1693705988362006,\n",
       " 1.2217304763960306,\n",
       " 1.2740903539558606,\n",
       " 1.3264502315156903,\n",
       " 1.3788101090755203,\n",
       " 1.43116998663535,\n",
       " 1.4835298641951802,\n",
       " 1.53588974175501,\n",
       " 1.5882496193148399,\n",
       " 1.6406094968746698,\n",
       " 1.6929693744344996,\n",
       " 1.7453292519943295,\n",
       " 1.7976891295541593,\n",
       " 1.8500490071139892,\n",
       " 1.902408884673819,\n",
       " 1.9547687622336491,\n",
       " 2.007128639793479,\n",
       " 2.0594885173533086,\n",
       " 2.111848394913139,\n",
       " 2.1642082724729685,\n",
       " 2.2165681500327987,\n",
       " 2.2689280275926285,\n",
       " 2.321287905152458,\n",
       " 2.3736477827122884,\n",
       " 2.426007660272118,\n",
       " 2.478367537831948,\n",
       " 2.5307274153917776,\n",
       " 2.5830872929516078,\n",
       " 2.6354471705114375,\n",
       " 2.6878070480712677,\n",
       " 2.740166925631097,\n",
       " 2.792526803190927,\n",
       " 2.844886680750757,\n",
       " 2.897246558310587,\n",
       " 2.949606435870417,\n",
       " 3.0019663134302466,\n",
       " 3.0543261909900763,\n",
       " 3.106686068549907,\n",
       " 3.159045946109736,\n",
       " 3.211405823669566,\n",
       " 3.2637657012293966,\n",
       " 3.3161255787892263,\n",
       " 3.368485456349056,\n",
       " 3.420845333908886,\n",
       " 3.473205211468716,\n",
       " 3.5255650890285457,\n",
       " 3.5779249665883754,\n",
       " 3.6302848441482056,\n",
       " 3.6826447217080354,\n",
       " 3.735004599267865,\n",
       " 3.787364476827695,\n",
       " 3.839724354387525,\n",
       " 3.8920842319473548,\n",
       " 3.9444441095071845,\n",
       " 3.9968039870670142,\n",
       " 4.049163864626845,\n",
       " 4.101523742186674,\n",
       " 4.153883619746504,\n",
       " 4.2062434973063345,\n",
       " 4.258603374866164,\n",
       " 4.310963252425994,\n",
       " 4.363323129985823,\n",
       " 4.4156830075456535,\n",
       " 4.468042885105484,\n",
       " 4.520402762665313,\n",
       " 4.572762640225144,\n",
       " 4.625122517784973,\n",
       " 4.677482395344803,\n",
       " 4.729842272904633,\n",
       " 4.782202150464463,\n",
       " 4.834562028024293,\n",
       " 4.886921905584122,\n",
       " 4.939281783143953,\n",
       " 4.991641660703783,\n",
       " 5.044001538263612,\n",
       " 5.096361415823442,\n",
       " 5.1487212933832724,\n",
       " 5.201081170943102,\n",
       " 5.253441048502932,\n",
       " 5.305800926062761,\n",
       " 5.358160803622591,\n",
       " 5.410520681182422,\n",
       " 5.462880558742251,\n",
       " 5.515240436302081,\n",
       " 5.567600313861911,\n",
       " 5.6199601914217405,\n",
       " 5.672320068981571,\n",
       " 5.7246799465414,\n",
       " 5.777039824101231,\n",
       " 5.829399701661061,\n",
       " 5.88175957922089,\n",
       " 5.934119456780721,\n",
       " 5.986479334340551,\n",
       " 6.03883921190038,\n",
       " 6.09119908946021,\n",
       " 6.14355896702004,\n",
       " 6.19591884457987,\n",
       " 6.2482787221397]"
      ]
     },
     "execution_count": 5,
     "metadata": {},
     "output_type": "execute_result"
    }
   ],
   "source": [
    "[i*np.pi/180 for i in range(10, 360, 3)]"
   ]
  },
  {
   "cell_type": "code",
   "execution_count": 6,
   "id": "7591d38d",
   "metadata": {},
   "outputs": [],
   "source": [
    "x = np.array([i*np.pi/180 for i in range(10,360, 3)])"
   ]
  },
  {
   "cell_type": "code",
   "execution_count": 7,
   "id": "231a97ae",
   "metadata": {},
   "outputs": [],
   "source": [
    "y = np.sin(x) + np.random.normal(0, 0.15, len(x))"
   ]
  },
  {
   "cell_type": "code",
   "execution_count": 8,
   "id": "24b92f94",
   "metadata": {},
   "outputs": [
    {
     "data": {
      "text/plain": [
       "array([-0.17875518,  0.17015414,  0.40537483,  0.50174598,  0.55552335,\n",
       "        0.3913975 ,  0.30114396,  0.4119058 ,  0.8442474 ,  0.70809498,\n",
       "        0.70503793,  0.64208034,  0.73516876,  0.88614076,  1.09191956,\n",
       "        0.69270668,  0.77137497,  0.95583001,  1.06812629,  1.25881163,\n",
       "        0.9286909 ,  0.94751081,  0.82260373,  1.09398785,  0.74106664,\n",
       "        1.03865147,  1.04944714,  1.03550472,  0.98376907,  0.86067362,\n",
       "        1.02562059,  1.0451801 ,  0.85839239,  1.1012493 ,  1.07272757,\n",
       "        0.95973126,  0.75541247,  0.70563922,  0.98068059,  0.58682263,\n",
       "        0.6009477 ,  0.5858078 ,  0.72218917,  0.66250923,  0.54026628,\n",
       "        0.50950051,  0.60511448,  0.62408948,  0.42137346,  0.37807597,\n",
       "       -0.10805369,  0.4030405 ,  0.2166126 ,  0.08129569, -0.12178765,\n",
       "       -0.23138903, -0.11553221, -0.06066341, -0.10147711, -0.09779143,\n",
       "       -0.17351202, -0.34180129, -0.15415399, -0.12106679, -0.38187223,\n",
       "       -0.42796911, -0.2536911 , -0.68726315, -0.79722455, -0.55428348,\n",
       "       -0.5531471 , -0.94568207, -0.65710045, -0.68708191, -0.72232023,\n",
       "       -0.56227137, -0.7033701 , -1.04285914, -0.97328017, -1.26341458,\n",
       "       -0.86329807, -1.01531156, -0.73007225, -1.01305559, -1.00812328,\n",
       "       -0.92323625, -1.21109803, -1.00498761, -0.98883619, -1.02305297,\n",
       "       -0.84830735, -0.71590196, -0.76078353, -0.84370602, -1.05280974,\n",
       "       -0.90081939, -0.90732391, -0.8224214 , -0.78822086, -0.88924369,\n",
       "       -0.95194525, -0.49895072, -0.61966193, -0.61160241, -0.59611695,\n",
       "       -0.42815291, -0.38602974, -0.61484841, -0.40832684, -0.35027464,\n",
       "       -0.34426416, -0.43239766, -0.63745753, -0.17856701, -0.38001355,\n",
       "       -0.22596289,  0.06391101])"
      ]
     },
     "execution_count": 8,
     "metadata": {},
     "output_type": "execute_result"
    }
   ],
   "source": [
    "y"
   ]
  },
  {
   "cell_type": "code",
   "execution_count": 9,
   "id": "695c93b1",
   "metadata": {},
   "outputs": [],
   "source": [
    "data = pd.DataFrame(data = np.column_stack([x,y]), columns=['x', 'y'])"
   ]
  },
  {
   "cell_type": "code",
   "execution_count": 10,
   "id": "5c580d34",
   "metadata": {},
   "outputs": [
    {
     "data": {
      "text/html": [
       "<div>\n",
       "<style scoped>\n",
       "    .dataframe tbody tr th:only-of-type {\n",
       "        vertical-align: middle;\n",
       "    }\n",
       "\n",
       "    .dataframe tbody tr th {\n",
       "        vertical-align: top;\n",
       "    }\n",
       "\n",
       "    .dataframe thead th {\n",
       "        text-align: right;\n",
       "    }\n",
       "</style>\n",
       "<table border=\"1\" class=\"dataframe\">\n",
       "  <thead>\n",
       "    <tr style=\"text-align: right;\">\n",
       "      <th></th>\n",
       "      <th>x</th>\n",
       "      <th>y</th>\n",
       "    </tr>\n",
       "  </thead>\n",
       "  <tbody>\n",
       "    <tr>\n",
       "      <th>0</th>\n",
       "      <td>0.174533</td>\n",
       "      <td>-0.178755</td>\n",
       "    </tr>\n",
       "    <tr>\n",
       "      <th>1</th>\n",
       "      <td>0.226893</td>\n",
       "      <td>0.170154</td>\n",
       "    </tr>\n",
       "    <tr>\n",
       "      <th>2</th>\n",
       "      <td>0.279253</td>\n",
       "      <td>0.405375</td>\n",
       "    </tr>\n",
       "    <tr>\n",
       "      <th>3</th>\n",
       "      <td>0.331613</td>\n",
       "      <td>0.501746</td>\n",
       "    </tr>\n",
       "    <tr>\n",
       "      <th>4</th>\n",
       "      <td>0.383972</td>\n",
       "      <td>0.555523</td>\n",
       "    </tr>\n",
       "    <tr>\n",
       "      <th>...</th>\n",
       "      <td>...</td>\n",
       "      <td>...</td>\n",
       "    </tr>\n",
       "    <tr>\n",
       "      <th>112</th>\n",
       "      <td>6.038839</td>\n",
       "      <td>-0.637458</td>\n",
       "    </tr>\n",
       "    <tr>\n",
       "      <th>113</th>\n",
       "      <td>6.091199</td>\n",
       "      <td>-0.178567</td>\n",
       "    </tr>\n",
       "    <tr>\n",
       "      <th>114</th>\n",
       "      <td>6.143559</td>\n",
       "      <td>-0.380014</td>\n",
       "    </tr>\n",
       "    <tr>\n",
       "      <th>115</th>\n",
       "      <td>6.195919</td>\n",
       "      <td>-0.225963</td>\n",
       "    </tr>\n",
       "    <tr>\n",
       "      <th>116</th>\n",
       "      <td>6.248279</td>\n",
       "      <td>0.063911</td>\n",
       "    </tr>\n",
       "  </tbody>\n",
       "</table>\n",
       "<p>117 rows × 2 columns</p>\n",
       "</div>"
      ],
      "text/plain": [
       "            x         y\n",
       "0    0.174533 -0.178755\n",
       "1    0.226893  0.170154\n",
       "2    0.279253  0.405375\n",
       "3    0.331613  0.501746\n",
       "4    0.383972  0.555523\n",
       "..        ...       ...\n",
       "112  6.038839 -0.637458\n",
       "113  6.091199 -0.178567\n",
       "114  6.143559 -0.380014\n",
       "115  6.195919 -0.225963\n",
       "116  6.248279  0.063911\n",
       "\n",
       "[117 rows x 2 columns]"
      ]
     },
     "execution_count": 10,
     "metadata": {},
     "output_type": "execute_result"
    }
   ],
   "source": [
    "data"
   ]
  },
  {
   "cell_type": "code",
   "execution_count": 11,
   "id": "48a8a025",
   "metadata": {},
   "outputs": [
    {
     "data": {
      "text/plain": [
       "[<matplotlib.lines.Line2D at 0x7f9d5653c9d0>]"
      ]
     },
     "execution_count": 11,
     "metadata": {},
     "output_type": "execute_result"
    },
    {
     "data": {
      "image/png": "[encoded data removed]",
      "text/plain": [
       "<Figure size 432x288 with 1 Axes>"
      ]
     },
     "metadata": {
      "needs_background": "light"
     },
     "output_type": "display_data"
    }
   ],
   "source": [
    "plt.plot(data['x'], data['y'])\n",
    "# Similar to a sin function with some noise..."
   ]
  },
  {
   "cell_type": "code",
   "execution_count": 12,
   "id": "deef5785",
   "metadata": {},
   "outputs": [],
   "source": [
    "for i in range(2, 16):\n",
    "    data[f'x_{i}'] = data['x']**i"
   ]
  },
  {
   "cell_type": "code",
   "execution_count": 13,
   "id": "9b47927c",
   "metadata": {},
   "outputs": [
    {
     "data": {
      "text/html": [
       "<div>\n",
       "<style scoped>\n",
       "    .dataframe tbody tr th:only-of-type {\n",
       "        vertical-align: middle;\n",
       "    }\n",
       "\n",
       "    .dataframe tbody tr th {\n",
       "        vertical-align: top;\n",
       "    }\n",
       "\n",
       "    .dataframe thead th {\n",
       "        text-align: right;\n",
       "    }\n",
       "</style>\n",
       "<table border=\"1\" class=\"dataframe\">\n",
       "  <thead>\n",
       "    <tr style=\"text-align: right;\">\n",
       "      <th></th>\n",
       "      <th>x</th>\n",
       "      <th>y</th>\n",
       "      <th>x_2</th>\n",
       "      <th>x_3</th>\n",
       "      <th>x_4</th>\n",
       "      <th>x_5</th>\n",
       "      <th>x_6</th>\n",
       "      <th>x_7</th>\n",
       "      <th>x_8</th>\n",
       "      <th>x_9</th>\n",
       "      <th>x_10</th>\n",
       "      <th>x_11</th>\n",
       "      <th>x_12</th>\n",
       "      <th>x_13</th>\n",
       "      <th>x_14</th>\n",
       "      <th>x_15</th>\n",
       "    </tr>\n",
       "  </thead>\n",
       "  <tbody>\n",
       "    <tr>\n",
       "      <th>0</th>\n",
       "      <td>0.174533</td>\n",
       "      <td>-0.178755</td>\n",
       "      <td>0.030462</td>\n",
       "      <td>0.005317</td>\n",
       "      <td>0.000928</td>\n",
       "      <td>0.000162</td>\n",
       "      <td>0.000028</td>\n",
       "      <td>0.000005</td>\n",
       "      <td>8.610313e-07</td>\n",
       "      <td>1.502783e-07</td>\n",
       "      <td>2.622851e-08</td>\n",
       "      <td>4.577739e-09</td>\n",
       "      <td>7.989662e-10</td>\n",
       "      <td>1.394459e-10</td>\n",
       "      <td>2.433790e-11</td>\n",
       "      <td>4.247765e-12</td>\n",
       "    </tr>\n",
       "    <tr>\n",
       "      <th>1</th>\n",
       "      <td>0.226893</td>\n",
       "      <td>0.170154</td>\n",
       "      <td>0.051480</td>\n",
       "      <td>0.011681</td>\n",
       "      <td>0.002650</td>\n",
       "      <td>0.000601</td>\n",
       "      <td>0.000136</td>\n",
       "      <td>0.000031</td>\n",
       "      <td>7.023697e-06</td>\n",
       "      <td>1.593626e-06</td>\n",
       "      <td>3.615823e-07</td>\n",
       "      <td>8.204043e-08</td>\n",
       "      <td>1.861438e-08</td>\n",
       "      <td>4.223469e-09</td>\n",
       "      <td>9.582748e-10</td>\n",
       "      <td>2.174257e-10</td>\n",
       "    </tr>\n",
       "    <tr>\n",
       "      <th>2</th>\n",
       "      <td>0.279253</td>\n",
       "      <td>0.405375</td>\n",
       "      <td>0.077982</td>\n",
       "      <td>0.021777</td>\n",
       "      <td>0.006081</td>\n",
       "      <td>0.001698</td>\n",
       "      <td>0.000474</td>\n",
       "      <td>0.000132</td>\n",
       "      <td>3.698101e-05</td>\n",
       "      <td>1.032705e-05</td>\n",
       "      <td>2.883856e-06</td>\n",
       "      <td>8.053244e-07</td>\n",
       "      <td>2.248890e-07</td>\n",
       "      <td>6.280085e-08</td>\n",
       "      <td>1.753731e-08</td>\n",
       "      <td>4.897340e-09</td>\n",
       "    </tr>\n",
       "    <tr>\n",
       "      <th>3</th>\n",
       "      <td>0.331613</td>\n",
       "      <td>0.501746</td>\n",
       "      <td>0.109967</td>\n",
       "      <td>0.036466</td>\n",
       "      <td>0.012093</td>\n",
       "      <td>0.004010</td>\n",
       "      <td>0.001330</td>\n",
       "      <td>0.000441</td>\n",
       "      <td>1.462338e-04</td>\n",
       "      <td>4.849296e-05</td>\n",
       "      <td>1.608088e-05</td>\n",
       "      <td>5.332620e-06</td>\n",
       "      <td>1.768364e-06</td>\n",
       "      <td>5.864117e-07</td>\n",
       "      <td>1.944615e-07</td>\n",
       "      <td>6.448586e-08</td>\n",
       "    </tr>\n",
       "    <tr>\n",
       "      <th>4</th>\n",
       "      <td>0.383972</td>\n",
       "      <td>0.555523</td>\n",
       "      <td>0.147435</td>\n",
       "      <td>0.056611</td>\n",
       "      <td>0.021737</td>\n",
       "      <td>0.008346</td>\n",
       "      <td>0.003205</td>\n",
       "      <td>0.001231</td>\n",
       "      <td>4.724984e-04</td>\n",
       "      <td>1.814264e-04</td>\n",
       "      <td>6.966273e-05</td>\n",
       "      <td>2.674857e-05</td>\n",
       "      <td>1.027071e-05</td>\n",
       "      <td>3.943671e-06</td>\n",
       "      <td>1.514261e-06</td>\n",
       "      <td>5.814344e-07</td>\n",
       "    </tr>\n",
       "    <tr>\n",
       "      <th>...</th>\n",
       "      <td>...</td>\n",
       "      <td>...</td>\n",
       "      <td>...</td>\n",
       "      <td>...</td>\n",
       "      <td>...</td>\n",
       "      <td>...</td>\n",
       "      <td>...</td>\n",
       "      <td>...</td>\n",
       "      <td>...</td>\n",
       "      <td>...</td>\n",
       "      <td>...</td>\n",
       "      <td>...</td>\n",
       "      <td>...</td>\n",
       "      <td>...</td>\n",
       "      <td>...</td>\n",
       "      <td>...</td>\n",
       "    </tr>\n",
       "    <tr>\n",
       "      <th>112</th>\n",
       "      <td>6.038839</td>\n",
       "      <td>-0.637458</td>\n",
       "      <td>36.467579</td>\n",
       "      <td>220.221846</td>\n",
       "      <td>1329.884320</td>\n",
       "      <td>8030.957580</td>\n",
       "      <td>48497.661540</td>\n",
       "      <td>292869.580196</td>\n",
       "      <td>1.768592e+06</td>\n",
       "      <td>1.068024e+07</td>\n",
       "      <td>6.449628e+07</td>\n",
       "      <td>3.894827e+08</td>\n",
       "      <td>2.352023e+09</td>\n",
       "      <td>1.420349e+10</td>\n",
       "      <td>8.577259e+10</td>\n",
       "      <td>5.179669e+11</td>\n",
       "    </tr>\n",
       "    <tr>\n",
       "      <th>113</th>\n",
       "      <td>6.091199</td>\n",
       "      <td>-0.178567</td>\n",
       "      <td>37.102706</td>\n",
       "      <td>225.999971</td>\n",
       "      <td>1376.610818</td>\n",
       "      <td>8385.210563</td>\n",
       "      <td>51075.986946</td>\n",
       "      <td>311114.005180</td>\n",
       "      <td>1.895057e+06</td>\n",
       "      <td>1.154317e+07</td>\n",
       "      <td>7.031176e+07</td>\n",
       "      <td>4.282829e+08</td>\n",
       "      <td>2.608756e+09</td>\n",
       "      <td>1.589045e+10</td>\n",
       "      <td>9.679192e+10</td>\n",
       "      <td>5.895789e+11</td>\n",
       "    </tr>\n",
       "    <tr>\n",
       "      <th>114</th>\n",
       "      <td>6.143559</td>\n",
       "      <td>-0.380014</td>\n",
       "      <td>37.743317</td>\n",
       "      <td>231.878292</td>\n",
       "      <td>1424.557962</td>\n",
       "      <td>8751.855839</td>\n",
       "      <td>53767.542420</td>\n",
       "      <td>330324.067368</td>\n",
       "      <td>2.029365e+06</td>\n",
       "      <td>1.246753e+07</td>\n",
       "      <td>7.659498e+07</td>\n",
       "      <td>4.705658e+08</td>\n",
       "      <td>2.890949e+09</td>\n",
       "      <td>1.776071e+10</td>\n",
       "      <td>1.091140e+11</td>\n",
       "      <td>6.703482e+11</td>\n",
       "    </tr>\n",
       "    <tr>\n",
       "      <th>115</th>\n",
       "      <td>6.195919</td>\n",
       "      <td>-0.225963</td>\n",
       "      <td>38.389410</td>\n",
       "      <td>237.857671</td>\n",
       "      <td>1473.746825</td>\n",
       "      <td>9131.215728</td>\n",
       "      <td>56576.271600</td>\n",
       "      <td>350541.987362</td>\n",
       "      <td>2.171930e+06</td>\n",
       "      <td>1.345710e+07</td>\n",
       "      <td>8.337910e+07</td>\n",
       "      <td>5.166101e+08</td>\n",
       "      <td>3.200875e+09</td>\n",
       "      <td>1.983236e+10</td>\n",
       "      <td>1.228797e+11</td>\n",
       "      <td>7.613526e+11</td>\n",
       "    </tr>\n",
       "    <tr>\n",
       "      <th>116</th>\n",
       "      <td>6.248279</td>\n",
       "      <td>0.063911</td>\n",
       "      <td>39.040987</td>\n",
       "      <td>243.938968</td>\n",
       "      <td>1524.198665</td>\n",
       "      <td>9523.618088</td>\n",
       "      <td>59506.220254</td>\n",
       "      <td>371811.449850</td>\n",
       "      <td>2.323182e+06</td>\n",
       "      <td>1.451589e+07</td>\n",
       "      <td>9.069930e+07</td>\n",
       "      <td>5.667145e+08</td>\n",
       "      <td>3.540990e+09</td>\n",
       "      <td>2.212509e+10</td>\n",
       "      <td>1.382438e+11</td>\n",
       "      <td>8.637855e+11</td>\n",
       "    </tr>\n",
       "  </tbody>\n",
       "</table>\n",
       "<p>117 rows × 16 columns</p>\n",
       "</div>"
      ],
      "text/plain": [
       "            x         y        x_2         x_3          x_4          x_5  \\\n",
       "0    0.174533 -0.178755   0.030462    0.005317     0.000928     0.000162   \n",
       "1    0.226893  0.170154   0.051480    0.011681     0.002650     0.000601   \n",
       "2    0.279253  0.405375   0.077982    0.021777     0.006081     0.001698   \n",
       "3    0.331613  0.501746   0.109967    0.036466     0.012093     0.004010   \n",
       "4    0.383972  0.555523   0.147435    0.056611     0.021737     0.008346   \n",
       "..        ...       ...        ...         ...          ...          ...   \n",
       "112  6.038839 -0.637458  36.467579  220.221846  1329.884320  8030.957580   \n",
       "113  6.091199 -0.178567  37.102706  225.999971  1376.610818  8385.210563   \n",
       "114  6.143559 -0.380014  37.743317  231.878292  1424.557962  8751.855839   \n",
       "115  6.195919 -0.225963  38.389410  237.857671  1473.746825  9131.215728   \n",
       "116  6.248279  0.063911  39.040987  243.938968  1524.198665  9523.618088   \n",
       "\n",
       "              x_6            x_7           x_8           x_9          x_10  \\\n",
       "0        0.000028       0.000005  8.610313e-07  1.502783e-07  2.622851e-08   \n",
       "1        0.000136       0.000031  7.023697e-06  1.593626e-06  3.615823e-07   \n",
       "2        0.000474       0.000132  3.698101e-05  1.032705e-05  2.883856e-06   \n",
       "3        0.001330       0.000441  1.462338e-04  4.849296e-05  1.608088e-05   \n",
       "4        0.003205       0.001231  4.724984e-04  1.814264e-04  6.966273e-05   \n",
       "..            ...            ...           ...           ...           ...   \n",
       "112  48497.661540  292869.580196  1.768592e+06  1.068024e+07  6.449628e+07   \n",
       "113  51075.986946  311114.005180  1.895057e+06  1.154317e+07  7.031176e+07   \n",
       "114  53767.542420  330324.067368  2.029365e+06  1.246753e+07  7.659498e+07   \n",
       "115  56576.271600  350541.987362  2.171930e+06  1.345710e+07  8.337910e+07   \n",
       "116  59506.220254  371811.449850  2.323182e+06  1.451589e+07  9.069930e+07   \n",
       "\n",
       "             x_11          x_12          x_13          x_14          x_15  \n",
       "0    4.577739e-09  7.989662e-10  1.394459e-10  2.433790e-11  4.247765e-12  \n",
       "1    8.204043e-08  1.861438e-08  4.223469e-09  9.582748e-10  2.174257e-10  \n",
       "2    8.053244e-07  2.248890e-07  6.280085e-08  1.753731e-08  4.897340e-09  \n",
       "3    5.332620e-06  1.768364e-06  5.864117e-07  1.944615e-07  6.448586e-08  \n",
       "4    2.674857e-05  1.027071e-05  3.943671e-06  1.514261e-06  5.814344e-07  \n",
       "..            ...           ...           ...           ...           ...  \n",
       "112  3.894827e+08  2.352023e+09  1.420349e+10  8.577259e+10  5.179669e+11  \n",
       "113  4.282829e+08  2.608756e+09  1.589045e+10  9.679192e+10  5.895789e+11  \n",
       "114  4.705658e+08  2.890949e+09  1.776071e+10  1.091140e+11  6.703482e+11  \n",
       "115  5.166101e+08  3.200875e+09  1.983236e+10  1.228797e+11  7.613526e+11  \n",
       "116  5.667145e+08  3.540990e+09  2.212509e+10  1.382438e+11  8.637855e+11  \n",
       "\n",
       "[117 rows x 16 columns]"
      ]
     },
     "execution_count": 13,
     "metadata": {},
     "output_type": "execute_result"
    }
   ],
   "source": [
    "data"
   ]
  },
  {
   "cell_type": "code",
   "execution_count": 14,
   "id": "5bade992",
   "metadata": {},
   "outputs": [],
   "source": [
    "from sklearn.linear_model import LinearRegression\n"
   ]
  },
  {
   "cell_type": "code",
   "execution_count": 15,
   "id": "6e498c93",
   "metadata": {},
   "outputs": [],
   "source": [
    "model = LinearRegression(normalize=True)"
   ]
  },
  {
   "cell_type": "code",
   "execution_count": 16,
   "id": "e46ffbce",
   "metadata": {},
   "outputs": [
    {
     "name": "stderr",
     "output_type": "stream",
     "text": [
      "/opt/anaconda3/lib/python3.9/site-packages/sklearn/linear_model/_base.py:141: FutureWarning: 'normalize' was deprecated in version 1.0 and will be removed in 1.2.\n",
      "If you wish to scale the data, use Pipeline with a StandardScaler in a preprocessing stage. To reproduce the previous behavior:\n",
      "\n",
      "from sklearn.pipeline import make_pipeline\n",
      "\n",
      "model = make_pipeline(StandardScaler(with_mean=False), LinearRegression())\n",
      "\n",
      "If you wish to pass a sample_weight parameter, you need to pass it as a fit parameter to each step of the pipeline as follows:\n",
      "\n",
      "kwargs = {s[0] + '__sample_weight': sample_weight for s in model.steps}\n",
      "model.fit(X, y, **kwargs)\n",
      "\n",
      "\n",
      "  warnings.warn(\n"
     ]
    },
    {
     "data": {
      "text/plain": [
       "LinearRegression(normalize=True)"
      ]
     },
     "execution_count": 16,
     "metadata": {},
     "output_type": "execute_result"
    }
   ],
   "source": [
    "model.fit(data[['x']], data[['y']])"
   ]
  },
  {
   "cell_type": "code",
   "execution_count": 17,
   "id": "e18ad7cf",
   "metadata": {},
   "outputs": [
    {
     "data": {
      "text/plain": [
       "array([[ 0.99856608],\n",
       "       [ 0.9812184 ],\n",
       "       [ 0.96387072],\n",
       "       [ 0.94652304],\n",
       "       [ 0.92917537],\n",
       "       [ 0.91182769],\n",
       "       [ 0.89448001],\n",
       "       [ 0.87713233],\n",
       "       [ 0.85978465],\n",
       "       [ 0.84243697],\n",
       "       [ 0.82508929],\n",
       "       [ 0.80774161],\n",
       "       [ 0.79039394],\n",
       "       [ 0.77304626],\n",
       "       [ 0.75569858],\n",
       "       [ 0.7383509 ],\n",
       "       [ 0.72100322],\n",
       "       [ 0.70365554],\n",
       "       [ 0.68630786],\n",
       "       [ 0.66896019],\n",
       "       [ 0.65161251],\n",
       "       [ 0.63426483],\n",
       "       [ 0.61691715],\n",
       "       [ 0.59956947],\n",
       "       [ 0.58222179],\n",
       "       [ 0.56487411],\n",
       "       [ 0.54752644],\n",
       "       [ 0.53017876],\n",
       "       [ 0.51283108],\n",
       "       [ 0.4954834 ],\n",
       "       [ 0.47813572],\n",
       "       [ 0.46078804],\n",
       "       [ 0.44344036],\n",
       "       [ 0.42609268],\n",
       "       [ 0.40874501],\n",
       "       [ 0.39139733],\n",
       "       [ 0.37404965],\n",
       "       [ 0.35670197],\n",
       "       [ 0.33935429],\n",
       "       [ 0.32200661],\n",
       "       [ 0.30465893],\n",
       "       [ 0.28731126],\n",
       "       [ 0.26996358],\n",
       "       [ 0.2526159 ],\n",
       "       [ 0.23526822],\n",
       "       [ 0.21792054],\n",
       "       [ 0.20057286],\n",
       "       [ 0.18322518],\n",
       "       [ 0.16587751],\n",
       "       [ 0.14852983],\n",
       "       [ 0.13118215],\n",
       "       [ 0.11383447],\n",
       "       [ 0.09648679],\n",
       "       [ 0.07913911],\n",
       "       [ 0.06179143],\n",
       "       [ 0.04444375],\n",
       "       [ 0.02709608],\n",
       "       [ 0.0097484 ],\n",
       "       [-0.00759928],\n",
       "       [-0.02494696],\n",
       "       [-0.04229464],\n",
       "       [-0.05964232],\n",
       "       [-0.07699   ],\n",
       "       [-0.09433767],\n",
       "       [-0.11168535],\n",
       "       [-0.12903303],\n",
       "       [-0.14638071],\n",
       "       [-0.16372839],\n",
       "       [-0.18107607],\n",
       "       [-0.19842375],\n",
       "       [-0.21577143],\n",
       "       [-0.2331191 ],\n",
       "       [-0.25046678],\n",
       "       [-0.26781446],\n",
       "       [-0.28516214],\n",
       "       [-0.30250982],\n",
       "       [-0.3198575 ],\n",
       "       [-0.33720518],\n",
       "       [-0.35455285],\n",
       "       [-0.37190053],\n",
       "       [-0.38924821],\n",
       "       [-0.40659589],\n",
       "       [-0.42394357],\n",
       "       [-0.44129125],\n",
       "       [-0.45863893],\n",
       "       [-0.4759866 ],\n",
       "       [-0.49333428],\n",
       "       [-0.51068196],\n",
       "       [-0.52802964],\n",
       "       [-0.54537732],\n",
       "       [-0.562725  ],\n",
       "       [-0.58007268],\n",
       "       [-0.59742036],\n",
       "       [-0.61476803],\n",
       "       [-0.63211571],\n",
       "       [-0.64946339],\n",
       "       [-0.66681107],\n",
       "       [-0.68415875],\n",
       "       [-0.70150643],\n",
       "       [-0.71885411],\n",
       "       [-0.73620178],\n",
       "       [-0.75354946],\n",
       "       [-0.77089714],\n",
       "       [-0.78824482],\n",
       "       [-0.8055925 ],\n",
       "       [-0.82294018],\n",
       "       [-0.84028786],\n",
       "       [-0.85763553],\n",
       "       [-0.87498321],\n",
       "       [-0.89233089],\n",
       "       [-0.90967857],\n",
       "       [-0.92702625],\n",
       "       [-0.94437393],\n",
       "       [-0.96172161],\n",
       "       [-0.97906929],\n",
       "       [-0.99641696],\n",
       "       [-1.01376464]])"
      ]
     },
     "execution_count": 17,
     "metadata": {},
     "output_type": "execute_result"
    }
   ],
   "source": [
    "model.predict(data[['x']])"
   ]
  },
  {
   "cell_type": "code",
   "execution_count": 18,
   "id": "e23599f2",
   "metadata": {},
   "outputs": [],
   "source": [
    "data['random_var'] = np.random.randint(1,6, data.shape[0])"
   ]
  },
  {
   "cell_type": "code",
   "execution_count": 19,
   "id": "aead7431",
   "metadata": {},
   "outputs": [
    {
     "data": {
      "text/html": [
       "<div>\n",
       "<style scoped>\n",
       "    .dataframe tbody tr th:only-of-type {\n",
       "        vertical-align: middle;\n",
       "    }\n",
       "\n",
       "    .dataframe tbody tr th {\n",
       "        vertical-align: top;\n",
       "    }\n",
       "\n",
       "    .dataframe thead th {\n",
       "        text-align: right;\n",
       "    }\n",
       "</style>\n",
       "<table border=\"1\" class=\"dataframe\">\n",
       "  <thead>\n",
       "    <tr style=\"text-align: right;\">\n",
       "      <th></th>\n",
       "      <th>x</th>\n",
       "      <th>y</th>\n",
       "      <th>x_2</th>\n",
       "      <th>x_3</th>\n",
       "      <th>x_4</th>\n",
       "      <th>x_5</th>\n",
       "      <th>x_6</th>\n",
       "      <th>x_7</th>\n",
       "      <th>x_8</th>\n",
       "      <th>x_9</th>\n",
       "      <th>x_10</th>\n",
       "      <th>x_11</th>\n",
       "      <th>x_12</th>\n",
       "      <th>x_13</th>\n",
       "      <th>x_14</th>\n",
       "      <th>x_15</th>\n",
       "      <th>random_var</th>\n",
       "    </tr>\n",
       "  </thead>\n",
       "  <tbody>\n",
       "    <tr>\n",
       "      <th>0</th>\n",
       "      <td>0.174533</td>\n",
       "      <td>-0.178755</td>\n",
       "      <td>0.030462</td>\n",
       "      <td>0.005317</td>\n",
       "      <td>0.000928</td>\n",
       "      <td>0.000162</td>\n",
       "      <td>0.000028</td>\n",
       "      <td>0.000005</td>\n",
       "      <td>8.610313e-07</td>\n",
       "      <td>1.502783e-07</td>\n",
       "      <td>2.622851e-08</td>\n",
       "      <td>4.577739e-09</td>\n",
       "      <td>7.989662e-10</td>\n",
       "      <td>1.394459e-10</td>\n",
       "      <td>2.433790e-11</td>\n",
       "      <td>4.247765e-12</td>\n",
       "      <td>1</td>\n",
       "    </tr>\n",
       "    <tr>\n",
       "      <th>1</th>\n",
       "      <td>0.226893</td>\n",
       "      <td>0.170154</td>\n",
       "      <td>0.051480</td>\n",
       "      <td>0.011681</td>\n",
       "      <td>0.002650</td>\n",
       "      <td>0.000601</td>\n",
       "      <td>0.000136</td>\n",
       "      <td>0.000031</td>\n",
       "      <td>7.023697e-06</td>\n",
       "      <td>1.593626e-06</td>\n",
       "      <td>3.615823e-07</td>\n",
       "      <td>8.204043e-08</td>\n",
       "      <td>1.861438e-08</td>\n",
       "      <td>4.223469e-09</td>\n",
       "      <td>9.582748e-10</td>\n",
       "      <td>2.174257e-10</td>\n",
       "      <td>3</td>\n",
       "    </tr>\n",
       "    <tr>\n",
       "      <th>2</th>\n",
       "      <td>0.279253</td>\n",
       "      <td>0.405375</td>\n",
       "      <td>0.077982</td>\n",
       "      <td>0.021777</td>\n",
       "      <td>0.006081</td>\n",
       "      <td>0.001698</td>\n",
       "      <td>0.000474</td>\n",
       "      <td>0.000132</td>\n",
       "      <td>3.698101e-05</td>\n",
       "      <td>1.032705e-05</td>\n",
       "      <td>2.883856e-06</td>\n",
       "      <td>8.053244e-07</td>\n",
       "      <td>2.248890e-07</td>\n",
       "      <td>6.280085e-08</td>\n",
       "      <td>1.753731e-08</td>\n",
       "      <td>4.897340e-09</td>\n",
       "      <td>2</td>\n",
       "    </tr>\n",
       "    <tr>\n",
       "      <th>3</th>\n",
       "      <td>0.331613</td>\n",
       "      <td>0.501746</td>\n",
       "      <td>0.109967</td>\n",
       "      <td>0.036466</td>\n",
       "      <td>0.012093</td>\n",
       "      <td>0.004010</td>\n",
       "      <td>0.001330</td>\n",
       "      <td>0.000441</td>\n",
       "      <td>1.462338e-04</td>\n",
       "      <td>4.849296e-05</td>\n",
       "      <td>1.608088e-05</td>\n",
       "      <td>5.332620e-06</td>\n",
       "      <td>1.768364e-06</td>\n",
       "      <td>5.864117e-07</td>\n",
       "      <td>1.944615e-07</td>\n",
       "      <td>6.448586e-08</td>\n",
       "      <td>1</td>\n",
       "    </tr>\n",
       "    <tr>\n",
       "      <th>4</th>\n",
       "      <td>0.383972</td>\n",
       "      <td>0.555523</td>\n",
       "      <td>0.147435</td>\n",
       "      <td>0.056611</td>\n",
       "      <td>0.021737</td>\n",
       "      <td>0.008346</td>\n",
       "      <td>0.003205</td>\n",
       "      <td>0.001231</td>\n",
       "      <td>4.724984e-04</td>\n",
       "      <td>1.814264e-04</td>\n",
       "      <td>6.966273e-05</td>\n",
       "      <td>2.674857e-05</td>\n",
       "      <td>1.027071e-05</td>\n",
       "      <td>3.943671e-06</td>\n",
       "      <td>1.514261e-06</td>\n",
       "      <td>5.814344e-07</td>\n",
       "      <td>1</td>\n",
       "    </tr>\n",
       "    <tr>\n",
       "      <th>...</th>\n",
       "      <td>...</td>\n",
       "      <td>...</td>\n",
       "      <td>...</td>\n",
       "      <td>...</td>\n",
       "      <td>...</td>\n",
       "      <td>...</td>\n",
       "      <td>...</td>\n",
       "      <td>...</td>\n",
       "      <td>...</td>\n",
       "      <td>...</td>\n",
       "      <td>...</td>\n",
       "      <td>...</td>\n",
       "      <td>...</td>\n",
       "      <td>...</td>\n",
       "      <td>...</td>\n",
       "      <td>...</td>\n",
       "      <td>...</td>\n",
       "    </tr>\n",
       "    <tr>\n",
       "      <th>112</th>\n",
       "      <td>6.038839</td>\n",
       "      <td>-0.637458</td>\n",
       "      <td>36.467579</td>\n",
       "      <td>220.221846</td>\n",
       "      <td>1329.884320</td>\n",
       "      <td>8030.957580</td>\n",
       "      <td>48497.661540</td>\n",
       "      <td>292869.580196</td>\n",
       "      <td>1.768592e+06</td>\n",
       "      <td>1.068024e+07</td>\n",
       "      <td>6.449628e+07</td>\n",
       "      <td>3.894827e+08</td>\n",
       "      <td>2.352023e+09</td>\n",
       "      <td>1.420349e+10</td>\n",
       "      <td>8.577259e+10</td>\n",
       "      <td>5.179669e+11</td>\n",
       "      <td>1</td>\n",
       "    </tr>\n",
       "    <tr>\n",
       "      <th>113</th>\n",
       "      <td>6.091199</td>\n",
       "      <td>-0.178567</td>\n",
       "      <td>37.102706</td>\n",
       "      <td>225.999971</td>\n",
       "      <td>1376.610818</td>\n",
       "      <td>8385.210563</td>\n",
       "      <td>51075.986946</td>\n",
       "      <td>311114.005180</td>\n",
       "      <td>1.895057e+06</td>\n",
       "      <td>1.154317e+07</td>\n",
       "      <td>7.031176e+07</td>\n",
       "      <td>4.282829e+08</td>\n",
       "      <td>2.608756e+09</td>\n",
       "      <td>1.589045e+10</td>\n",
       "      <td>9.679192e+10</td>\n",
       "      <td>5.895789e+11</td>\n",
       "      <td>4</td>\n",
       "    </tr>\n",
       "    <tr>\n",
       "      <th>114</th>\n",
       "      <td>6.143559</td>\n",
       "      <td>-0.380014</td>\n",
       "      <td>37.743317</td>\n",
       "      <td>231.878292</td>\n",
       "      <td>1424.557962</td>\n",
       "      <td>8751.855839</td>\n",
       "      <td>53767.542420</td>\n",
       "      <td>330324.067368</td>\n",
       "      <td>2.029365e+06</td>\n",
       "      <td>1.246753e+07</td>\n",
       "      <td>7.659498e+07</td>\n",
       "      <td>4.705658e+08</td>\n",
       "      <td>2.890949e+09</td>\n",
       "      <td>1.776071e+10</td>\n",
       "      <td>1.091140e+11</td>\n",
       "      <td>6.703482e+11</td>\n",
       "      <td>3</td>\n",
       "    </tr>\n",
       "    <tr>\n",
       "      <th>115</th>\n",
       "      <td>6.195919</td>\n",
       "      <td>-0.225963</td>\n",
       "      <td>38.389410</td>\n",
       "      <td>237.857671</td>\n",
       "      <td>1473.746825</td>\n",
       "      <td>9131.215728</td>\n",
       "      <td>56576.271600</td>\n",
       "      <td>350541.987362</td>\n",
       "      <td>2.171930e+06</td>\n",
       "      <td>1.345710e+07</td>\n",
       "      <td>8.337910e+07</td>\n",
       "      <td>5.166101e+08</td>\n",
       "      <td>3.200875e+09</td>\n",
       "      <td>1.983236e+10</td>\n",
       "      <td>1.228797e+11</td>\n",
       "      <td>7.613526e+11</td>\n",
       "      <td>5</td>\n",
       "    </tr>\n",
       "    <tr>\n",
       "      <th>116</th>\n",
       "      <td>6.248279</td>\n",
       "      <td>0.063911</td>\n",
       "      <td>39.040987</td>\n",
       "      <td>243.938968</td>\n",
       "      <td>1524.198665</td>\n",
       "      <td>9523.618088</td>\n",
       "      <td>59506.220254</td>\n",
       "      <td>371811.449850</td>\n",
       "      <td>2.323182e+06</td>\n",
       "      <td>1.451589e+07</td>\n",
       "      <td>9.069930e+07</td>\n",
       "      <td>5.667145e+08</td>\n",
       "      <td>3.540990e+09</td>\n",
       "      <td>2.212509e+10</td>\n",
       "      <td>1.382438e+11</td>\n",
       "      <td>8.637855e+11</td>\n",
       "      <td>2</td>\n",
       "    </tr>\n",
       "  </tbody>\n",
       "</table>\n",
       "<p>117 rows × 17 columns</p>\n",
       "</div>"
      ],
      "text/plain": [
       "            x         y        x_2         x_3          x_4          x_5  \\\n",
       "0    0.174533 -0.178755   0.030462    0.005317     0.000928     0.000162   \n",
       "1    0.226893  0.170154   0.051480    0.011681     0.002650     0.000601   \n",
       "2    0.279253  0.405375   0.077982    0.021777     0.006081     0.001698   \n",
       "3    0.331613  0.501746   0.109967    0.036466     0.012093     0.004010   \n",
       "4    0.383972  0.555523   0.147435    0.056611     0.021737     0.008346   \n",
       "..        ...       ...        ...         ...          ...          ...   \n",
       "112  6.038839 -0.637458  36.467579  220.221846  1329.884320  8030.957580   \n",
       "113  6.091199 -0.178567  37.102706  225.999971  1376.610818  8385.210563   \n",
       "114  6.143559 -0.380014  37.743317  231.878292  1424.557962  8751.855839   \n",
       "115  6.195919 -0.225963  38.389410  237.857671  1473.746825  9131.215728   \n",
       "116  6.248279  0.063911  39.040987  243.938968  1524.198665  9523.618088   \n",
       "\n",
       "              x_6            x_7           x_8           x_9          x_10  \\\n",
       "0        0.000028       0.000005  8.610313e-07  1.502783e-07  2.622851e-08   \n",
       "1        0.000136       0.000031  7.023697e-06  1.593626e-06  3.615823e-07   \n",
       "2        0.000474       0.000132  3.698101e-05  1.032705e-05  2.883856e-06   \n",
       "3        0.001330       0.000441  1.462338e-04  4.849296e-05  1.608088e-05   \n",
       "4        0.003205       0.001231  4.724984e-04  1.814264e-04  6.966273e-05   \n",
       "..            ...            ...           ...           ...           ...   \n",
       "112  48497.661540  292869.580196  1.768592e+06  1.068024e+07  6.449628e+07   \n",
       "113  51075.986946  311114.005180  1.895057e+06  1.154317e+07  7.031176e+07   \n",
       "114  53767.542420  330324.067368  2.029365e+06  1.246753e+07  7.659498e+07   \n",
       "115  56576.271600  350541.987362  2.171930e+06  1.345710e+07  8.337910e+07   \n",
       "116  59506.220254  371811.449850  2.323182e+06  1.451589e+07  9.069930e+07   \n",
       "\n",
       "             x_11          x_12          x_13          x_14          x_15  \\\n",
       "0    4.577739e-09  7.989662e-10  1.394459e-10  2.433790e-11  4.247765e-12   \n",
       "1    8.204043e-08  1.861438e-08  4.223469e-09  9.582748e-10  2.174257e-10   \n",
       "2    8.053244e-07  2.248890e-07  6.280085e-08  1.753731e-08  4.897340e-09   \n",
       "3    5.332620e-06  1.768364e-06  5.864117e-07  1.944615e-07  6.448586e-08   \n",
       "4    2.674857e-05  1.027071e-05  3.943671e-06  1.514261e-06  5.814344e-07   \n",
       "..            ...           ...           ...           ...           ...   \n",
       "112  3.894827e+08  2.352023e+09  1.420349e+10  8.577259e+10  5.179669e+11   \n",
       "113  4.282829e+08  2.608756e+09  1.589045e+10  9.679192e+10  5.895789e+11   \n",
       "114  4.705658e+08  2.890949e+09  1.776071e+10  1.091140e+11  6.703482e+11   \n",
       "115  5.166101e+08  3.200875e+09  1.983236e+10  1.228797e+11  7.613526e+11   \n",
       "116  5.667145e+08  3.540990e+09  2.212509e+10  1.382438e+11  8.637855e+11   \n",
       "\n",
       "     random_var  \n",
       "0             1  \n",
       "1             3  \n",
       "2             2  \n",
       "3             1  \n",
       "4             1  \n",
       "..          ...  \n",
       "112           1  \n",
       "113           4  \n",
       "114           3  \n",
       "115           5  \n",
       "116           2  \n",
       "\n",
       "[117 rows x 17 columns]"
      ]
     },
     "execution_count": 19,
     "metadata": {},
     "output_type": "execute_result"
    }
   ],
   "source": [
    "data"
   ]
  },
  {
   "cell_type": "code",
   "execution_count": 20,
   "id": "c8e43317",
   "metadata": {},
   "outputs": [],
   "source": [
    "train = data[data['random_var']<= 3].copy()\n",
    "test = data[data['random_var']> 3].copy()"
   ]
  },
  {
   "cell_type": "code",
   "execution_count": 21,
   "id": "41a81fc0",
   "metadata": {},
   "outputs": [],
   "source": [
    "train.drop(columns=['random_var'], inplace=True)\n",
    "test.drop(columns=['random_var'], inplace=True)"
   ]
  },
  {
   "cell_type": "code",
   "execution_count": 22,
   "id": "bcdebe5e",
   "metadata": {},
   "outputs": [],
   "source": [
    "X_train = train.drop(['y'], axis=1).copy()\n",
    "y_train = train['y'].copy()\n",
    "X_test = test.drop(['y'], axis=1).copy()\n",
    "y_test = test['y'].copy()"
   ]
  },
  {
   "cell_type": "code",
   "execution_count": 23,
   "id": "d71f7764",
   "metadata": {},
   "outputs": [],
   "source": [
    "x1_model = LinearRegression(normalize=True)"
   ]
  },
  {
   "cell_type": "code",
   "execution_count": 24,
   "id": "7ebaca62",
   "metadata": {},
   "outputs": [
    {
     "name": "stderr",
     "output_type": "stream",
     "text": [
      "/opt/anaconda3/lib/python3.9/site-packages/sklearn/linear_model/_base.py:141: FutureWarning: 'normalize' was deprecated in version 1.0 and will be removed in 1.2.\n",
      "If you wish to scale the data, use Pipeline with a StandardScaler in a preprocessing stage. To reproduce the previous behavior:\n",
      "\n",
      "from sklearn.pipeline import make_pipeline\n",
      "\n",
      "model = make_pipeline(StandardScaler(with_mean=False), LinearRegression())\n",
      "\n",
      "If you wish to pass a sample_weight parameter, you need to pass it as a fit parameter to each step of the pipeline as follows:\n",
      "\n",
      "kwargs = {s[0] + '__sample_weight': sample_weight for s in model.steps}\n",
      "model.fit(X, y, **kwargs)\n",
      "\n",
      "\n",
      "  warnings.warn(\n"
     ]
    },
    {
     "data": {
      "text/plain": [
       "LinearRegression(normalize=True)"
      ]
     },
     "execution_count": 24,
     "metadata": {},
     "output_type": "execute_result"
    }
   ],
   "source": [
    "x1_model.fit(X_train[['x']], y_train)"
   ]
  },
  {
   "cell_type": "code",
   "execution_count": 25,
   "id": "7081cffc",
   "metadata": {},
   "outputs": [],
   "source": [
    "x1_train_predicted = x1_model.predict(X_train[['x']])"
   ]
  },
  {
   "cell_type": "code",
   "execution_count": 26,
   "id": "b253776c",
   "metadata": {},
   "outputs": [],
   "source": [
    "x1_test_predictions = x1_model.predict(X_test[['x']])"
   ]
  },
  {
   "cell_type": "code",
   "execution_count": 27,
   "id": "d06b9223",
   "metadata": {},
   "outputs": [
    {
     "data": {
      "text/plain": [
       "[<matplotlib.lines.Line2D at 0x7f9d56e76370>]"
      ]
     },
     "execution_count": 27,
     "metadata": {},
     "output_type": "execute_result"
    },
    {
     "data": {
      "image/png": "[encoded data removed]",
      "text/plain": [
       "<Figure size 432x288 with 1 Axes>"
      ]
     },
     "metadata": {
      "needs_background": "light"
     },
     "output_type": "display_data"
    }
   ],
   "source": [
    "plt.plot(X_test['x'], y_test, '.') # all points actual\n",
    "plt.plot(X_test['x'], x1_test_predictions) # "
   ]
  },
  {
   "cell_type": "code",
   "execution_count": 28,
   "id": "56eaae0d",
   "metadata": {},
   "outputs": [],
   "source": [
    "# Simple Linear Implementation..."
   ]
  },
  {
   "cell_type": "code",
   "execution_count": 29,
   "id": "c54e7937",
   "metadata": {},
   "outputs": [
    {
     "name": "stdout",
     "output_type": "stream",
     "text": [
      "X_train error: 0.1945756809955137\n",
      "X_test error: 0.18191163849128195\n"
     ]
    }
   ],
   "source": [
    "# calculate RSS\n",
    "print(f'X_train error: {sum((x1_train_predicted - y_train)**2) / y_train.shape[0]}')\n",
    "print(f'X_test error: {sum((x1_test_predictions - y_test)**2) / y_test.shape[0]}')"
   ]
  },
  {
   "cell_type": "code",
   "execution_count": 30,
   "id": "016dc31c",
   "metadata": {},
   "outputs": [
    {
     "data": {
      "text/plain": [
       "(40, 15)"
      ]
     },
     "execution_count": 30,
     "metadata": {},
     "output_type": "execute_result"
    }
   ],
   "source": [
    "X_test.shape"
   ]
  },
  {
   "cell_type": "code",
   "execution_count": 31,
   "id": "83b9e020",
   "metadata": {},
   "outputs": [
    {
     "data": {
      "text/plain": [
       "(77, 15)"
      ]
     },
     "execution_count": 31,
     "metadata": {},
     "output_type": "execute_result"
    }
   ],
   "source": [
    "X_train.shape"
   ]
  },
  {
   "cell_type": "code",
   "execution_count": 32,
   "id": "05549a54",
   "metadata": {},
   "outputs": [],
   "source": [
    "## Training on 2-3 Features\n",
    "\n",
    "x2_model = LinearRegression(normalize=True)"
   ]
  },
  {
   "cell_type": "code",
   "execution_count": 33,
   "id": "5f9f3d8b",
   "metadata": {},
   "outputs": [
    {
     "name": "stderr",
     "output_type": "stream",
     "text": [
      "/opt/anaconda3/lib/python3.9/site-packages/sklearn/linear_model/_base.py:141: FutureWarning: 'normalize' was deprecated in version 1.0 and will be removed in 1.2.\n",
      "If you wish to scale the data, use Pipeline with a StandardScaler in a preprocessing stage. To reproduce the previous behavior:\n",
      "\n",
      "from sklearn.pipeline import make_pipeline\n",
      "\n",
      "model = make_pipeline(StandardScaler(with_mean=False), LinearRegression())\n",
      "\n",
      "If you wish to pass a sample_weight parameter, you need to pass it as a fit parameter to each step of the pipeline as follows:\n",
      "\n",
      "kwargs = {s[0] + '__sample_weight': sample_weight for s in model.steps}\n",
      "model.fit(X, y, **kwargs)\n",
      "\n",
      "\n",
      "  warnings.warn(\n"
     ]
    },
    {
     "data": {
      "text/plain": [
       "LinearRegression(normalize=True)"
      ]
     },
     "execution_count": 33,
     "metadata": {},
     "output_type": "execute_result"
    }
   ],
   "source": [
    "x2_model.fit(X_train[['x', 'x_2']], y_train)"
   ]
  },
  {
   "cell_type": "code",
   "execution_count": 34,
   "id": "effb4142",
   "metadata": {},
   "outputs": [],
   "source": [
    "x2_train_predicted = x2_model.predict(X_train[['x', 'x_2']])"
   ]
  },
  {
   "cell_type": "code",
   "execution_count": 35,
   "id": "89710a08",
   "metadata": {},
   "outputs": [],
   "source": [
    "x2_test_predictions = x2_model.predict(X_test[['x', 'x_2']])"
   ]
  },
  {
   "cell_type": "code",
   "execution_count": 36,
   "id": "f2a53a64",
   "metadata": {},
   "outputs": [
    {
     "name": "stdout",
     "output_type": "stream",
     "text": [
      "X_train error: 0.19231824832563446\n",
      "X_test error: 0.17702200039314508\n"
     ]
    }
   ],
   "source": [
    "# calculate RSS\n",
    "print(f'X_train error: {sum((x2_train_predicted - y_train)**2) / y_train.shape[0]}')\n",
    "print(f'X_test error: {sum((x2_test_predictions - y_test)**2) / y_test.shape[0]}')"
   ]
  },
  {
   "cell_type": "code",
   "execution_count": null,
   "id": "a88ce885",
   "metadata": {},
   "outputs": [],
   "source": []
  },
  {
   "cell_type": "code",
   "execution_count": 61,
   "id": "1076571b",
   "metadata": {},
   "outputs": [
    {
     "data": {
      "text/plain": [
       "[<matplotlib.lines.Line2D at 0x7f9d57b5a4f0>]"
      ]
     },
     "execution_count": 61,
     "metadata": {},
     "output_type": "execute_result"
    },
    {
     "data": {
      "image/png": "[encoded data removed]",
      "text/plain": [
       "<Figure size 432x288 with 1 Axes>"
      ]
     },
     "metadata": {
      "needs_background": "light"
     },
     "output_type": "display_data"
    }
   ],
   "source": [
    "plt.plot(X_test['x'], y_test, '.')\n",
    "plt.plot(X_test['x'], x2_test_predictions)"
   ]
  },
  {
   "cell_type": "code",
   "execution_count": 51,
   "id": "2d579001",
   "metadata": {},
   "outputs": [],
   "source": [
    "## Training on 3 Features\n",
    "\n",
    "x3_model = LinearRegression(normalize=True)"
   ]
  },
  {
   "cell_type": "code",
   "execution_count": 39,
   "id": "8eeb5f72",
   "metadata": {},
   "outputs": [
    {
     "name": "stderr",
     "output_type": "stream",
     "text": [
      "/opt/anaconda3/lib/python3.9/site-packages/sklearn/linear_model/_base.py:141: FutureWarning: 'normalize' was deprecated in version 1.0 and will be removed in 1.2.\n",
      "If you wish to scale the data, use Pipeline with a StandardScaler in a preprocessing stage. To reproduce the previous behavior:\n",
      "\n",
      "from sklearn.pipeline import make_pipeline\n",
      "\n",
      "model = make_pipeline(StandardScaler(with_mean=False), LinearRegression())\n",
      "\n",
      "If you wish to pass a sample_weight parameter, you need to pass it as a fit parameter to each step of the pipeline as follows:\n",
      "\n",
      "kwargs = {s[0] + '__sample_weight': sample_weight for s in model.steps}\n",
      "model.fit(X, y, **kwargs)\n",
      "\n",
      "\n",
      "  warnings.warn(\n"
     ]
    },
    {
     "data": {
      "text/plain": [
       "LinearRegression(normalize=True)"
      ]
     },
     "execution_count": 39,
     "metadata": {},
     "output_type": "execute_result"
    }
   ],
   "source": [
    "x3_model.fit(X_train[['x', 'x_2', 'x_3']], y_train)"
   ]
  },
  {
   "cell_type": "code",
   "execution_count": 40,
   "id": "ffa9779f",
   "metadata": {},
   "outputs": [],
   "source": [
    "x3_train_predicted = x3_model.predict(X_train[['x', 'x_2', 'x_3']])\n",
    "x3_test_predictions = x3_model.predict(X_test[['x', 'x_2', 'x_3']])"
   ]
  },
  {
   "cell_type": "code",
   "execution_count": 41,
   "id": "da25a73e",
   "metadata": {},
   "outputs": [
    {
     "name": "stdout",
     "output_type": "stream",
     "text": [
      "X_train error: 0.02579265179110043\n",
      "X_test error: 0.024550081215809944\n"
     ]
    }
   ],
   "source": [
    "# calculate RSS\n",
    "print(f'X_train error: {sum((x3_train_predicted - y_train)**2) / y_train.shape[0]}')\n",
    "print(f'X_test error: {sum((x3_test_predictions - y_test)**2) / y_test.shape[0]}')"
   ]
  },
  {
   "cell_type": "code",
   "execution_count": 42,
   "id": "c7d70460",
   "metadata": {},
   "outputs": [
    {
     "data": {
      "text/plain": [
       "[<matplotlib.lines.Line2D at 0x7f9d57025a60>]"
      ]
     },
     "execution_count": 42,
     "metadata": {},
     "output_type": "execute_result"
    },
    {
     "data": {
      "image/png": "[encoded data removed]",
      "text/plain": [
       "<Figure size 432x288 with 1 Axes>"
      ]
     },
     "metadata": {
      "needs_background": "light"
     },
     "output_type": "display_data"
    }
   ],
   "source": [
    "plt.plot(X_test['x'], y_test, '.')\n",
    "plt.plot(X_test['x'], x3_test_predictions)"
   ]
  },
  {
   "cell_type": "code",
   "execution_count": 43,
   "id": "a442467e",
   "metadata": {},
   "outputs": [],
   "source": [
    "def warn(*args, **kwargs):\n",
    "    pass\n",
    "import warnings\n",
    "warnings.warn = warn"
   ]
  },
  {
   "cell_type": "code",
   "execution_count": 44,
   "id": "bdc7136c",
   "metadata": {},
   "outputs": [],
   "source": [
    "from statsmodels.graphics.gofplots import qqplot\n",
    "from statsmodels.stats.outliers_influence import variance_inflation_factor"
   ]
  },
  {
   "cell_type": "code",
   "execution_count": 59,
   "id": "2fa26e5b",
   "metadata": {
    "scrolled": false
   },
   "outputs": [
    {
     "data": {
      "image/png": "[encoded data removed]",
      "text/plain": [
       "<Figure size 864x576 with 4 Axes>"
      ]
     },
     "metadata": {
      "needs_background": "light"
     },
     "output_type": "display_data"
    }
   ],
   "source": [
    "### finding out all the models and plotting them in a row...\n",
    "col = ['Number of Features', 'mrss_train', 'mrss_test', 'intercept_']\n",
    "result_df = pd.DataFrame(columns=col, index=[f'n{i}' for i in range(1,16)])\n",
    "# dict_plot = {1: 441 , 2: 442, 3: 443, 4: 444, 5: 445, 6: 446, 7: 447, 8: 448, 7: 447, 8:448, 9:449, 10:4410,\n",
    "#        11:4411, 12:4412, 13:4413, 14:4414, 15:4415, 16:4416}\n",
    "dict_plot = {1: 221 , 4: 222, 8: 223, 11:224}\n",
    "plt.figure(figsize=(12,8))\n",
    "for i in range(1,16):\n",
    "    xt_model = LinearRegression(normalize=True)\n",
    "    xt_model.fit(X_train.iloc[:,:i], y_train)\n",
    "    predict_X_train = xt_model.predict(X_train.iloc[:,:i])\n",
    "    predict_X_test = xt_model.predict(X_test.iloc[:,:i])\n",
    "    # X_train Error\n",
    "    mrss_train = np.round( sum( (predict_X_train -  y_train)**2)/y_train.shape[0], 6)\n",
    "    # print(f'X_train_{i} Error: {mrss_train}')\n",
    "    mrss_test = np.round(sum( (predict_X_test -  y_test)**2)/y_test.shape[0], 6)\n",
    "    # print(f'X_test_{i} Error: {mrss_test}')\n",
    "    # result_df.iloc[i-1]\n",
    "    result_df.loc[f'n{i}'] = [i, mrss_train, mrss_test, np.round(xt_model.intercept_, 6)]\n",
    "    if i in dict_plot:\n",
    "        plt.subplot(dict_plot[i])\n",
    "        plt.tight_layout()\n",
    "        plt.plot(X_test['x'], y_test, '.')\n",
    "        plt.plot(X_test['x'], predict_X_test)\n",
    "        #plt.show()\n",
    "#         residuals = predict_X_test - y_test\n",
    "#         sns.displot(residuals, kind = 'kde')\n",
    "#         qqplot(data=residuals, line='s')\n",
    "#         plt.ylabel('Residuals Quantiles')\n",
    "#         plt.xlabel('Ideal Scaled Quantiles')\n",
    "#         plt.title('Checking Distribution of Residuals')\n",
    "#         plt.show()\n",
    "#         # plt.figure(figsize=(12,8))\n",
    "\n",
    "#         k = range(0, residuals.shape[0])\n",
    "#         sns.scatterplot(x=k, y=residuals, s=14)\n",
    "#         plt.show()\n",
    "#         plt.bar(x=[i for i in range(i)], height= xt_model.coef_)\n",
    "\n",
    "        "
   ]
  },
  {
   "cell_type": "code",
   "execution_count": 158,
   "id": "a910350d",
   "metadata": {},
   "outputs": [
    {
     "data": {
      "text/plain": [
       "7.2885626083745265"
      ]
     },
     "execution_count": 158,
     "metadata": {},
     "output_type": "execute_result"
    }
   ],
   "source": [
    "variance_inflation_factor(data.values, 16)"
   ]
  },
  {
   "cell_type": "code",
   "execution_count": 161,
   "id": "a39c4c78",
   "metadata": {},
   "outputs": [
    {
     "data": {
      "text/plain": [
       "x             3.237317e+05\n",
       "y             2.711261e+01\n",
       "x_2           1.516215e+08\n",
       "x_3           7.266566e+10\n",
       "x_4           3.476341e+12\n",
       "x_5           1.608428e+14\n",
       "x_6           9.007199e+15\n",
       "x_7                    inf\n",
       "x_8                    inf\n",
       "x_9                    inf\n",
       "x_10                   inf\n",
       "x_11                   inf\n",
       "x_12                   inf\n",
       "x_13          9.007199e+15\n",
       "x_14                   inf\n",
       "x_15          9.007199e+15\n",
       "random_var    7.288563e+00\n",
       "dtype: float64"
      ]
     },
     "execution_count": 161,
     "metadata": {},
     "output_type": "execute_result"
    }
   ],
   "source": [
    "VIF = pd.Series( [variance_inflation_factor(data.values, i) for i in range(data.shape[1])], \n",
    "                index=data.columns )\n",
    "VIF\n",
    "# All values are having very high values for VIF indicating that the data is highly correlated"
   ]
  },
  {
   "cell_type": "code",
   "execution_count": 169,
   "id": "ca45e887",
   "metadata": {},
   "outputs": [
    {
     "data": {
      "text/html": [
       "<div>\n",
       "<style scoped>\n",
       "    .dataframe tbody tr th:only-of-type {\n",
       "        vertical-align: middle;\n",
       "    }\n",
       "\n",
       "    .dataframe tbody tr th {\n",
       "        vertical-align: top;\n",
       "    }\n",
       "\n",
       "    .dataframe thead th {\n",
       "        text-align: right;\n",
       "    }\n",
       "</style>\n",
       "<table border=\"1\" class=\"dataframe\">\n",
       "  <thead>\n",
       "    <tr style=\"text-align: right;\">\n",
       "      <th></th>\n",
       "      <th>Number of Features</th>\n",
       "      <th>mrss_train</th>\n",
       "      <th>mrss_test</th>\n",
       "      <th>intercept_</th>\n",
       "    </tr>\n",
       "  </thead>\n",
       "  <tbody>\n",
       "    <tr>\n",
       "      <th>n1</th>\n",
       "      <td>1</td>\n",
       "      <td>0.2057</td>\n",
       "      <td>0.2162</td>\n",
       "      <td>1.2105</td>\n",
       "    </tr>\n",
       "    <tr>\n",
       "      <th>n2</th>\n",
       "      <td>2</td>\n",
       "      <td>0.2026</td>\n",
       "      <td>0.2144</td>\n",
       "      <td>1.3607</td>\n",
       "    </tr>\n",
       "    <tr>\n",
       "      <th>n3</th>\n",
       "      <td>3</td>\n",
       "      <td>0.0263</td>\n",
       "      <td>0.0201</td>\n",
       "      <td>-0.2746</td>\n",
       "    </tr>\n",
       "    <tr>\n",
       "      <th>n4</th>\n",
       "      <td>4</td>\n",
       "      <td>0.0253</td>\n",
       "      <td>0.0208</td>\n",
       "      <td>-0.4435</td>\n",
       "    </tr>\n",
       "    <tr>\n",
       "      <th>n5</th>\n",
       "      <td>5</td>\n",
       "      <td>0.0244</td>\n",
       "      <td>0.0196</td>\n",
       "      <td>-0.2158</td>\n",
       "    </tr>\n",
       "    <tr>\n",
       "      <th>n6</th>\n",
       "      <td>6</td>\n",
       "      <td>0.0244</td>\n",
       "      <td>0.0202</td>\n",
       "      <td>-0.2583</td>\n",
       "    </tr>\n",
       "    <tr>\n",
       "      <th>n7</th>\n",
       "      <td>7</td>\n",
       "      <td>0.0239</td>\n",
       "      <td>0.0218</td>\n",
       "      <td>0.0547</td>\n",
       "    </tr>\n",
       "    <tr>\n",
       "      <th>n8</th>\n",
       "      <td>8</td>\n",
       "      <td>0.0239</td>\n",
       "      <td>0.0221</td>\n",
       "      <td>-0.0195</td>\n",
       "    </tr>\n",
       "    <tr>\n",
       "      <th>n9</th>\n",
       "      <td>9</td>\n",
       "      <td>0.0239</td>\n",
       "      <td>0.0221</td>\n",
       "      <td>-0.0335</td>\n",
       "    </tr>\n",
       "    <tr>\n",
       "      <th>n10</th>\n",
       "      <td>10</td>\n",
       "      <td>0.0236</td>\n",
       "      <td>0.022</td>\n",
       "      <td>-0.6774</td>\n",
       "    </tr>\n",
       "    <tr>\n",
       "      <th>n11</th>\n",
       "      <td>11</td>\n",
       "      <td>0.0236</td>\n",
       "      <td>0.0221</td>\n",
       "      <td>-0.2953</td>\n",
       "    </tr>\n",
       "    <tr>\n",
       "      <th>n12</th>\n",
       "      <td>12</td>\n",
       "      <td>0.0231</td>\n",
       "      <td>0.0248</td>\n",
       "      <td>-2.7878</td>\n",
       "    </tr>\n",
       "    <tr>\n",
       "      <th>n13</th>\n",
       "      <td>13</td>\n",
       "      <td>0.023</td>\n",
       "      <td>0.0261</td>\n",
       "      <td>-4.0255</td>\n",
       "    </tr>\n",
       "    <tr>\n",
       "      <th>n14</th>\n",
       "      <td>14</td>\n",
       "      <td>0.0229</td>\n",
       "      <td>0.0248</td>\n",
       "      <td>-0.6868</td>\n",
       "    </tr>\n",
       "    <tr>\n",
       "      <th>n15</th>\n",
       "      <td>15</td>\n",
       "      <td>0.0227</td>\n",
       "      <td>0.0231</td>\n",
       "      <td>4.8338</td>\n",
       "    </tr>\n",
       "  </tbody>\n",
       "</table>\n",
       "</div>"
      ],
      "text/plain": [
       "    Number of Features mrss_train mrss_test intercept_\n",
       "n1                   1     0.2057    0.2162     1.2105\n",
       "n2                   2     0.2026    0.2144     1.3607\n",
       "n3                   3     0.0263    0.0201    -0.2746\n",
       "n4                   4     0.0253    0.0208    -0.4435\n",
       "n5                   5     0.0244    0.0196    -0.2158\n",
       "n6                   6     0.0244    0.0202    -0.2583\n",
       "n7                   7     0.0239    0.0218     0.0547\n",
       "n8                   8     0.0239    0.0221    -0.0195\n",
       "n9                   9     0.0239    0.0221    -0.0335\n",
       "n10                 10     0.0236     0.022    -0.6774\n",
       "n11                 11     0.0236    0.0221    -0.2953\n",
       "n12                 12     0.0231    0.0248    -2.7878\n",
       "n13                 13      0.023    0.0261    -4.0255\n",
       "n14                 14     0.0229    0.0248    -0.6868\n",
       "n15                 15     0.0227    0.0231     4.8338"
      ]
     },
     "execution_count": 169,
     "metadata": {},
     "output_type": "execute_result"
    }
   ],
   "source": [
    "result_df"
   ]
  },
  {
   "cell_type": "markdown",
   "id": "d577dca6",
   "metadata": {},
   "source": [
    "If you see the test error, after a particular time, it has started to increase again. Meaning that the model is overfitting the train data. This can help us in identifying the trade off point in train and test errors (bias & variance)"
   ]
  },
  {
   "cell_type": "code",
   "execution_count": 184,
   "id": "0f30c6c3",
   "metadata": {},
   "outputs": [
    {
     "data": {
      "image/png": "[encoded data removed]",
      "text/plain": [
       "<Figure size 864x576 with 1 Axes>"
      ]
     },
     "metadata": {
      "needs_background": "light"
     },
     "output_type": "display_data"
    }
   ],
   "source": [
    "plt.figure(figsize=(12,8))\n",
    "plt.plot(result_df['mrss_test'], label='Test Error')\n",
    "plt.plot(result_df['mrss_train'], label='Train Error')\n",
    "plt.legend()\n",
    "plt.show()"
   ]
  },
  {
   "cell_type": "code",
   "execution_count": 185,
   "id": "0638c0c2",
   "metadata": {},
   "outputs": [
    {
     "data": {
      "image/png": "[encoded data removed]",
      "text/plain": [
       "<Figure size 432x288 with 1 Axes>"
      ]
     },
     "metadata": {
      "needs_background": "light"
     },
     "output_type": "display_data"
    }
   ],
   "source": [
    "result_df[['mrss_test', 'mrss_train']].plot()\n",
    "plt.xlabel('Error')\n",
    "plt.ylabel('Iterations')\n",
    "plt.show()"
   ]
  },
  {
   "cell_type": "code",
   "execution_count": 48,
   "id": "76152397",
   "metadata": {},
   "outputs": [
    {
     "data": {
      "text/plain": [
       "0     -0.178755\n",
       "1      0.170154\n",
       "2      0.405375\n",
       "3      0.501746\n",
       "4      0.555523\n",
       "         ...   \n",
       "109   -0.350275\n",
       "110   -0.344264\n",
       "112   -0.637458\n",
       "114   -0.380014\n",
       "116    0.063911\n",
       "Name: y, Length: 77, dtype: float64"
      ]
     },
     "execution_count": 48,
     "metadata": {},
     "output_type": "execute_result"
    }
   ],
   "source": [
    "y_train"
   ]
  },
  {
   "cell_type": "code",
   "execution_count": 60,
   "id": "d6bfdb11",
   "metadata": {},
   "outputs": [
    {
     "data": {
      "text/plain": [
       "[<matplotlib.lines.Line2D at 0x7f9d58507b80>]"
      ]
     },
     "execution_count": 60,
     "metadata": {},
     "output_type": "execute_result"
    },
    {
     "data": {
      "image/png": "[encoded data removed]",
      "text/plain": [
       "<Figure size 432x288 with 1 Axes>"
      ]
     },
     "metadata": {
      "needs_background": "light"
     },
     "output_type": "display_data"
    }
   ],
   "source": [
    "plt.plot(x,y,'.')"
   ]
  },
  {
   "cell_type": "code",
   "execution_count": 62,
   "id": "4f18e953",
   "metadata": {},
   "outputs": [
    {
     "data": {
      "image/png": "[encoded data removed]",
      "text/plain": [
       "<Figure size 864x720 with 8 Axes>"
      ]
     },
     "metadata": {
      "needs_background": "light"
     },
     "output_type": "display_data"
    }
   ],
   "source": [
    "dict_plot = {1:331, 3:332, 5: 333, 7: 334, 9: 335, 11: 336, 13: 337, 15: 338, 16: 339}\n",
    "plt.figure(figsize=(12,10))\n",
    "for i in range(1,16):\n",
    "    model = LinearRegression(normalize=True)\n",
    "    model.fit(X_train.iloc[:, :i], y_train)\n",
    "    # train predictions\n",
    "    train_predictions = model.predict(X_train.iloc[:,:i])\n",
    "    # test predictions\n",
    "    test_predictions = model.predict(X_test.iloc[:,:i])\n",
    "    # train error - bias of model\n",
    "    train_error = sum((train_predictions-y_train)**2)/y_train.shape[0]\n",
    "    # test error - variance of model\n",
    "    test_error = sum((test_predictions-y_test)**2)/y_test.shape[0]\n",
    "    result_df.loc[f'n{i}'] = [i, train_error, test_error, model.intercept_]\n",
    "    if i in dict_plot:\n",
    "        plt.subplot(dict_plot[i])\n",
    "        plt.tight_layout()\n",
    "        plt.plot(X_test['x'].values, y_test, '.')\n",
    "        plt.plot(X_test['x'].values, test_predictions)"
   ]
  },
  {
   "cell_type": "code",
   "execution_count": 64,
   "id": "9bce62bb",
   "metadata": {},
   "outputs": [
    {
     "data": {
      "text/plain": [
       "0      0.174533\n",
       "1      0.226893\n",
       "2      0.279253\n",
       "3      0.331613\n",
       "4      0.383972\n",
       "         ...   \n",
       "109    5.881760\n",
       "110    5.934119\n",
       "112    6.038839\n",
       "114    6.143559\n",
       "116    6.248279\n",
       "Name: x, Length: 77, dtype: float64"
      ]
     },
     "execution_count": 64,
     "metadata": {},
     "output_type": "execute_result"
    }
   ],
   "source": [
    "X_train['x']"
   ]
  },
  {
   "cell_type": "code",
   "execution_count": 65,
   "id": "5e92fa6c",
   "metadata": {},
   "outputs": [
    {
     "data": {
      "text/plain": [
       "0     -0.178755\n",
       "1      0.170154\n",
       "2      0.405375\n",
       "3      0.501746\n",
       "4      0.555523\n",
       "         ...   \n",
       "109   -0.350275\n",
       "110   -0.344264\n",
       "112   -0.637458\n",
       "114   -0.380014\n",
       "116    0.063911\n",
       "Name: y, Length: 77, dtype: float64"
      ]
     },
     "execution_count": 65,
     "metadata": {},
     "output_type": "execute_result"
    }
   ],
   "source": [
    "y_train"
   ]
  },
  {
   "cell_type": "code",
   "execution_count": null,
   "id": "58ae5054",
   "metadata": {},
   "outputs": [],
   "source": []
  }
 ],
 "metadata": {
  "kernelspec": {
   "display_name": "Python 3 (ipykernel)",
   "language": "python",
   "name": "python3"
  },
  "language_info": {
   "codemirror_mode": {
    "name": "ipython",
    "version": 3
   },
   "file_extension": ".py",
   "mimetype": "text/x-python",
   "name": "python",
   "nbconvert_exporter": "python",
   "pygments_lexer": "ipython3",
   "version": "3.9.7"
  }
 },
 "nbformat": 4,
 "nbformat_minor": 5
}
